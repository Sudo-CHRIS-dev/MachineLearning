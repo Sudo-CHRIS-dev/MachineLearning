{
  "nbformat": 4,
  "nbformat_minor": 0,
  "metadata": {
    "colab": {
      "provenance": [],
      "authorship_tag": "ABX9TyOtbDw1veuxCo9QC2Jep3ZU",
      "include_colab_link": true
    },
    "kernelspec": {
      "name": "python3",
      "display_name": "Python 3"
    },
    "language_info": {
      "name": "python"
    }
  },
  "cells": [
    {
      "cell_type": "markdown",
      "metadata": {
        "id": "view-in-github",
        "colab_type": "text"
      },
      "source": [
        "<a href=\"https://colab.research.google.com/github/Sudo-CHRIS-dev/MachineLearning/blob/main/Project2.ipynb\" target=\"_parent\"><img src=\"https://colab.research.google.com/assets/colab-badge.svg\" alt=\"Open In Colab\"/></a>"
      ]
    },
    {
      "cell_type": "markdown",
      "source": [
        "#Dataset 1 : Car Insurance Data\n",
        "\n",
        "- 1.) Kaggle\n",
        "- 2.) The data has to do with car insurance\n",
        "- 3.) if a customer has claimed his/her loan\n",
        "- 4.) A row represents a person\n",
        "- 5.) Classification\n",
        "- 6.) 19 features\n",
        "- 7.) 10000\n",
        "- 8.) I currently see no challenges"
      ],
      "metadata": {
        "id": "G-9hTvEbTLPo"
      }
    },
    {
      "cell_type": "markdown",
      "source": [
        "# Dataset 2 : Adult income dataset\n",
        "\n",
        "- 1.) Kaggle\n",
        "- 2.) The data has to do with adult income\n",
        "- 3.) Income\n",
        "- 4.) A row represents a person\n",
        "- 5.) Classification\n",
        "- 6.) 16 features\n",
        "- 7.) 48842\n",
        "- 8.) I currently see no challenges"
      ],
      "metadata": {
        "id": "0XHiB1ygTPP4"
      }
    }
  ]
}